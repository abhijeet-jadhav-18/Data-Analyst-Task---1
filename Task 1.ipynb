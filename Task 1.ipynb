{
 "cells": [
  {
   "cell_type": "code",
   "execution_count": 9,
   "id": "97cab1f6-fad2-4a5a-916d-acb1a0fc1488",
   "metadata": {},
   "outputs": [],
   "source": [
    "import pandas as pd\n",
    "import numpy as np\n",
    "import csv\n",
    "import os"
   ]
  },
  {
   "cell_type": "code",
   "execution_count": 54,
   "id": "f2bc5a36-ac1a-4e09-8bab-9241c11403c9",
   "metadata": {},
   "outputs": [
    {
     "name": "stdout",
     "output_type": "stream",
     "text": [
      "Dataset:\n",
      "   SaleID     Product  Quantity  Price\n",
      "0       1      Laptop         2  50000\n",
      "1       2      Mobile         5  20000\n",
      "2       3      Tablet         3  15000\n",
      "3       4  Headphones        10   2000 \n",
      "\n"
     ]
    }
   ],
   "source": [
    "# Create a new CSV file\n",
    "\n",
    "\n",
    "data = {\n",
    "    \"SaleID\": [1, 2, 3, 4],\n",
    "    \"Product\": [\"Laptop\", \"Mobile\", \"Tablet\", \"Headphones\"],\n",
    "    \"Quantity\": [2, 5, 3, 10],\n",
    "    \"Price\": [50000, 20000, 15000, 2000]\n",
    "}\n",
    "\n",
    "df = pd.DataFrame(data)\n",
    "df.to_csv(\"newsales.csv\", index=False)\n",
    "print(\"Dataset:\")\n",
    "print(df, \"\\n\")\n"
   ]
  },
  {
   "cell_type": "code",
   "execution_count": 58,
   "id": "10b7b24c-be9e-4399-a479-60a480acde81",
   "metadata": {},
   "outputs": [
    {
     "name": "stdout",
     "output_type": "stream",
     "text": [
      "After CREATE (Inserted Smartwatch):\n",
      "   SaleID     Product  Quantity  Price\n",
      "0       1      Laptop         2  50000\n",
      "1       2      Mobile         5  20000\n",
      "2       3      Tablet         3  15000\n",
      "3       4  Headphones        10   2000\n",
      "4       5  Smartwatch         7   8000 \n",
      "\n"
     ]
    }
   ],
   "source": [
    "# Insert new record\n",
    "\n",
    "\n",
    "new_record = {\"SaleID\": 5, \"Product\": \"Smartwatch\", \"Quantity\": 7, \"Price\": 8000}\n",
    "df = pd.concat([df, pd.DataFrame([new_record])], ignore_index=True)\n",
    "print(\"After CREATE (Inserted Smartwatch):\")\n",
    "print(df, \"\\n\")"
   ]
  },
  {
   "cell_type": "code",
   "execution_count": 60,
   "id": "6bca7608-444d-4ceb-accb-377638acdc73",
   "metadata": {},
   "outputs": [
    {
     "name": "stdout",
     "output_type": "stream",
     "text": [
      "READ Operation (Product = 'Mobile'):\n",
      "   SaleID Product  Quantity  Price\n",
      "1       2  Mobile         5  20000 \n",
      "\n"
     ]
    }
   ],
   "source": [
    "# READ (Get Mobile record)\n",
    "\n",
    "read_record = df[df[\"Product\"] == \"Mobile\"]\n",
    "print(\"READ Operation (Product = 'Mobile'):\")\n",
    "print(read_record, \"\\n\")"
   ]
  },
  {
   "cell_type": "code",
   "execution_count": 62,
   "id": "9da5e1f1-c4aa-457b-8345-557dda5b6a3a",
   "metadata": {},
   "outputs": [
    {
     "name": "stdout",
     "output_type": "stream",
     "text": [
      "After UPDATE (Tablet price changed):\n",
      "   SaleID     Product  Quantity  Price\n",
      "0       1      Laptop         2  50000\n",
      "1       2      Mobile         5  20000\n",
      "2       3      Tablet         3  18000\n",
      "3       4  Headphones        10   2000\n",
      "4       5  Smartwatch         7   8000 \n",
      "\n"
     ]
    }
   ],
   "source": [
    "# Update: Modify existing records in the dataset\n",
    "\n",
    "\n",
    "df.loc[df[\"Product\"] == \"Tablet\", \"Price\"] = 18000\n",
    "print(\"After UPDATE (Tablet price changed):\")\n",
    "print(df, \"\\n\")"
   ]
  },
  {
   "cell_type": "code",
   "execution_count": 79,
   "id": "d391c91c-99a4-428d-8c14-ab3a66ae8164",
   "metadata": {},
   "outputs": [
    {
     "name": "stdout",
     "output_type": "stream",
     "text": [
      "After DELETE (Removed Mobile):\n",
      "Empty DataFrame\n",
      "Columns: [SaleID, Product, Quantity, Price]\n",
      "Index: [] \n",
      "\n"
     ]
    }
   ],
   "source": [
    "# Delete: Remove specific records from the dataset.\n",
    "\n",
    "\n",
    "df = df[df[\"SaleID\"] != 2]\n",
    "print(\"After DELETE (Removed Mobile):\")\n",
    "print(df, \"\\n\")\n"
   ]
  },
  {
   "cell_type": "code",
   "execution_count": 75,
   "id": "49745f1c-be9b-43f1-96ce-12880a743a0d",
   "metadata": {},
   "outputs": [],
   "source": [
    "# Save the dataset\n",
    "\n",
    "df.to_csv(\"newsales.csv\", index=False)"
   ]
  },
  {
   "cell_type": "code",
   "execution_count": null,
   "id": "842c3c4a-e37c-40aa-bd21-22bd4eacebd6",
   "metadata": {},
   "outputs": [],
   "source": []
  }
 ],
 "metadata": {
  "kernelspec": {
   "display_name": "Python 3 (ipykernel)",
   "language": "python",
   "name": "python3"
  },
  "language_info": {
   "codemirror_mode": {
    "name": "ipython",
    "version": 3
   },
   "file_extension": ".py",
   "mimetype": "text/x-python",
   "name": "python",
   "nbconvert_exporter": "python",
   "pygments_lexer": "ipython3",
   "version": "3.12.7"
  }
 },
 "nbformat": 4,
 "nbformat_minor": 5
}
